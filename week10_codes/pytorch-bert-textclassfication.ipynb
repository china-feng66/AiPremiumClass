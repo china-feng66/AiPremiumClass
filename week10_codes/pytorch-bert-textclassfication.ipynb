{
 "cells": [
  {
   "cell_type": "code",
   "execution_count": 41,
   "metadata": {
    "execution": {
     "iopub.execute_input": "2025-05-23T12:50:38.781506Z",
     "iopub.status.busy": "2025-05-23T12:50:38.780866Z",
     "iopub.status.idle": "2025-05-23T12:50:38.785811Z",
     "shell.execute_reply": "2025-05-23T12:50:38.784965Z",
     "shell.execute_reply.started": "2025-05-23T12:50:38.781476Z"
    },
    "trusted": true
   },
   "outputs": [],
   "source": [
    "import torch\n",
    "import torch.nn as nn\n",
    "from torch.optim import Adam\n",
    "from transformers import AutoTokenizer, AutoModelForSequenceClassification\n",
    "from torch.utils.data import DataLoader\n",
    "from torch.utils.tensorboard import SummaryWriter\n",
    "from sklearn.model_selection import train_test_split\n",
    "\n",
    "import pandas as pd\n",
    "from tqdm import tqdm "
   ]
  },
  {
   "cell_type": "code",
   "execution_count": 42,
   "metadata": {
    "execution": {
     "iopub.execute_input": "2025-05-23T12:50:40.734189Z",
     "iopub.status.busy": "2025-05-23T12:50:40.733561Z",
     "iopub.status.idle": "2025-05-23T12:50:40.740306Z",
     "shell.execute_reply": "2025-05-23T12:50:40.739485Z",
     "shell.execute_reply.started": "2025-05-23T12:50:40.734162Z"
    },
    "trusted": true
   },
   "outputs": [],
   "source": [
    "device = 'cuda' if torch.cuda.is_available() else 'cpu'\n",
    "writer = SummaryWriter()"
   ]
  },
  {
   "cell_type": "code",
   "execution_count": 43,
   "metadata": {
    "execution": {
     "iopub.execute_input": "2025-05-23T12:50:42.717073Z",
     "iopub.status.busy": "2025-05-23T12:50:42.716504Z",
     "iopub.status.idle": "2025-05-23T12:50:52.901968Z",
     "shell.execute_reply": "2025-05-23T12:50:52.901136Z",
     "shell.execute_reply.started": "2025-05-23T12:50:42.717045Z"
    },
    "trusted": true
   },
   "outputs": [
    {
     "data": {
      "text/html": [
       "<div>\n",
       "<style scoped>\n",
       "    .dataframe tbody tr th:only-of-type {\n",
       "        vertical-align: middle;\n",
       "    }\n",
       "\n",
       "    .dataframe tbody tr th {\n",
       "        vertical-align: top;\n",
       "    }\n",
       "\n",
       "    .dataframe thead th {\n",
       "        text-align: right;\n",
       "    }\n",
       "</style>\n",
       "<table border=\"1\" class=\"dataframe\">\n",
       "  <thead>\n",
       "    <tr style=\"text-align: right;\">\n",
       "      <th></th>\n",
       "      <th>爬取时间(__time)</th>\n",
       "      <th>爬取链接(__url)</th>\n",
       "      <th>商品ID(product_id)</th>\n",
       "      <th>评价时间(publish_time)</th>\n",
       "      <th>评分（总分5分）(score)</th>\n",
       "      <th>评价内容(content)</th>\n",
       "      <th>评价者(author_name)</th>\n",
       "      <th>评价者会员等级(author_level)</th>\n",
       "      <th>商品sku(product_sku)</th>\n",
       "      <th>评价标签(tags)</th>\n",
       "    </tr>\n",
       "  </thead>\n",
       "  <tbody>\n",
       "    <tr>\n",
       "      <th>0</th>\n",
       "      <td>2019-03-08 00:50:34</td>\n",
       "      <td>https://sclub.jd.com/comment/productPageCommen...</td>\n",
       "      <td>4722324</td>\n",
       "      <td>1550631798</td>\n",
       "      <td>5</td>\n",
       "      <td>此用户未填写评价内容</td>\n",
       "      <td>j***e</td>\n",
       "      <td>注册会员</td>\n",
       "      <td>单机版 小D黑色</td>\n",
       "      <td>[]</td>\n",
       "    </tr>\n",
       "    <tr>\n",
       "      <th>1</th>\n",
       "      <td>2019-03-08 00:50:34</td>\n",
       "      <td>https://sclub.jd.com/comment/productPageCommen...</td>\n",
       "      <td>4722324</td>\n",
       "      <td>1550633151</td>\n",
       "      <td>5</td>\n",
       "      <td>此用户未填写评价内容</td>\n",
       "      <td>c***n</td>\n",
       "      <td>钻石会员</td>\n",
       "      <td>单机版 小D黑色</td>\n",
       "      <td>[]</td>\n",
       "    </tr>\n",
       "    <tr>\n",
       "      <th>2</th>\n",
       "      <td>2019-03-08 00:50:34</td>\n",
       "      <td>https://sclub.jd.com/comment/productPageCommen...</td>\n",
       "      <td>4722324</td>\n",
       "      <td>1550633330</td>\n",
       "      <td>3</td>\n",
       "      <td>此用户未填写评价内容</td>\n",
       "      <td>j***1</td>\n",
       "      <td>银牌会员</td>\n",
       "      <td>单机版 小D黑色</td>\n",
       "      <td>[]</td>\n",
       "    </tr>\n",
       "    <tr>\n",
       "      <th>3</th>\n",
       "      <td>2019-03-08 00:50:34</td>\n",
       "      <td>https://sclub.jd.com/comment/productPageCommen...</td>\n",
       "      <td>4722324</td>\n",
       "      <td>1550633401</td>\n",
       "      <td>5</td>\n",
       "      <td>此用户未填写评价内容</td>\n",
       "      <td>苗***4</td>\n",
       "      <td>钻石会员</td>\n",
       "      <td>单机版 小D黑色</td>\n",
       "      <td>[]</td>\n",
       "    </tr>\n",
       "    <tr>\n",
       "      <th>4</th>\n",
       "      <td>2019-03-08 00:50:33</td>\n",
       "      <td>https://sclub.jd.com/comment/productPageCommen...</td>\n",
       "      <td>4722324</td>\n",
       "      <td>1550633461</td>\n",
       "      <td>5</td>\n",
       "      <td>此用户未填写评价内容</td>\n",
       "      <td>J***3</td>\n",
       "      <td>注册会员</td>\n",
       "      <td>单机版 小D黑色</td>\n",
       "      <td>[]</td>\n",
       "    </tr>\n",
       "  </tbody>\n",
       "</table>\n",
       "</div>"
      ],
      "text/plain": [
       "          爬取时间(__time)                                        爬取链接(__url)  \\\n",
       "0  2019-03-08 00:50:34  https://sclub.jd.com/comment/productPageCommen...   \n",
       "1  2019-03-08 00:50:34  https://sclub.jd.com/comment/productPageCommen...   \n",
       "2  2019-03-08 00:50:34  https://sclub.jd.com/comment/productPageCommen...   \n",
       "3  2019-03-08 00:50:34  https://sclub.jd.com/comment/productPageCommen...   \n",
       "4  2019-03-08 00:50:33  https://sclub.jd.com/comment/productPageCommen...   \n",
       "\n",
       "   商品ID(product_id)  评价时间(publish_time)  评分（总分5分）(score) 评价内容(content)  \\\n",
       "0           4722324          1550631798                5    此用户未填写评价内容   \n",
       "1           4722324          1550633151                5    此用户未填写评价内容   \n",
       "2           4722324          1550633330                3    此用户未填写评价内容   \n",
       "3           4722324          1550633401                5    此用户未填写评价内容   \n",
       "4           4722324          1550633461                5    此用户未填写评价内容   \n",
       "\n",
       "  评价者(author_name) 评价者会员等级(author_level) 商品sku(product_sku) 评价标签(tags)  \n",
       "0            j***e                  注册会员           单机版 小D黑色         []  \n",
       "1            c***n                  钻石会员           单机版 小D黑色         []  \n",
       "2            j***1                  银牌会员           单机版 小D黑色         []  \n",
       "3            苗***4                  钻石会员           单机版 小D黑色         []  \n",
       "4            J***3                  注册会员           单机版 小D黑色         []  "
      ]
     },
     "execution_count": 43,
     "metadata": {},
     "output_type": "execute_result"
    }
   ],
   "source": [
    "df = pd.read_excel('/kaggle/input/jd_comment_with_label/jd_comment_data.xlsx')\n",
    "\n",
    "df.head()"
   ]
  },
  {
   "cell_type": "code",
   "execution_count": 44,
   "metadata": {
    "execution": {
     "iopub.execute_input": "2025-05-23T12:50:52.904619Z",
     "iopub.status.busy": "2025-05-23T12:50:52.903847Z",
     "iopub.status.idle": "2025-05-23T12:50:52.909983Z",
     "shell.execute_reply": "2025-05-23T12:50:52.909105Z",
     "shell.execute_reply.started": "2025-05-23T12:50:52.904574Z"
    },
    "trusted": true
   },
   "outputs": [
    {
     "data": {
      "text/plain": [
       "Index(['爬取时间(__time)', '爬取链接(__url)', '商品ID(product_id)', '评价时间(publish_time)',\n",
       "       '评分（总分5分）(score)', '评价内容(content)', '评价者(author_name)',\n",
       "       '评价者会员等级(author_level)', '商品sku(product_sku)', '评价标签(tags)'],\n",
       "      dtype='object')"
      ]
     },
     "execution_count": 44,
     "metadata": {},
     "output_type": "execute_result"
    }
   ],
   "source": [
    "df.columns"
   ]
  },
  {
   "cell_type": "code",
   "execution_count": 45,
   "metadata": {
    "execution": {
     "iopub.execute_input": "2025-05-23T12:50:52.911006Z",
     "iopub.status.busy": "2025-05-23T12:50:52.910814Z",
     "iopub.status.idle": "2025-05-23T12:50:52.935146Z",
     "shell.execute_reply": "2025-05-23T12:50:52.934395Z",
     "shell.execute_reply.started": "2025-05-23T12:50:52.910990Z"
    },
    "trusted": true
   },
   "outputs": [],
   "source": [
    "filterd= df['评价内容(content)'] != \"此用户未填写评价内容\"\n",
    "data_df = df[filterd][['评价内容(content)','评分（总分5分）(score)']]"
   ]
  },
  {
   "cell_type": "code",
   "execution_count": 46,
   "metadata": {
    "execution": {
     "iopub.execute_input": "2025-05-23T12:50:52.936829Z",
     "iopub.status.busy": "2025-05-23T12:50:52.936543Z",
     "iopub.status.idle": "2025-05-23T12:50:52.944063Z",
     "shell.execute_reply": "2025-05-23T12:50:52.943318Z",
     "shell.execute_reply.started": "2025-05-23T12:50:52.936808Z"
    },
    "trusted": true
   },
   "outputs": [
    {
     "data": {
      "text/html": [
       "<div>\n",
       "<style scoped>\n",
       "    .dataframe tbody tr th:only-of-type {\n",
       "        vertical-align: middle;\n",
       "    }\n",
       "\n",
       "    .dataframe tbody tr th {\n",
       "        vertical-align: top;\n",
       "    }\n",
       "\n",
       "    .dataframe thead th {\n",
       "        text-align: right;\n",
       "    }\n",
       "</style>\n",
       "<table border=\"1\" class=\"dataframe\">\n",
       "  <thead>\n",
       "    <tr style=\"text-align: right;\">\n",
       "      <th></th>\n",
       "      <th>评价内容(content)</th>\n",
       "      <th>评分（总分5分）(score)</th>\n",
       "    </tr>\n",
       "  </thead>\n",
       "  <tbody>\n",
       "    <tr>\n",
       "      <th>15</th>\n",
       "      <td>一般般，一分钱一分货吧</td>\n",
       "      <td>1</td>\n",
       "    </tr>\n",
       "    <tr>\n",
       "      <th>18</th>\n",
       "      <td>商品质量很好，很满意，配送速度快啊，而且配送员态度也非常好。</td>\n",
       "      <td>4</td>\n",
       "    </tr>\n",
       "    <tr>\n",
       "      <th>19</th>\n",
       "      <td>。。。</td>\n",
       "      <td>5</td>\n",
       "    </tr>\n",
       "    <tr>\n",
       "      <th>22</th>\n",
       "      <td>刘慧敏提莫摸摸摸休息泽TCL退咯的一组婆婆破鼓规土局</td>\n",
       "      <td>5</td>\n",
       "    </tr>\n",
       "    <tr>\n",
       "      <th>25</th>\n",
       "      <td>还好还好还好还好红红火火好很好好</td>\n",
       "      <td>5</td>\n",
       "    </tr>\n",
       "  </tbody>\n",
       "</table>\n",
       "</div>"
      ],
      "text/plain": [
       "                     评价内容(content)  评分（总分5分）(score)\n",
       "15                     一般般，一分钱一分货吧                1\n",
       "18  商品质量很好，很满意，配送速度快啊，而且配送员态度也非常好。                4\n",
       "19                             。。。                5\n",
       "22      刘慧敏提莫摸摸摸休息泽TCL退咯的一组婆婆破鼓规土局                5\n",
       "25                还好还好还好还好红红火火好很好好                5"
      ]
     },
     "execution_count": 46,
     "metadata": {},
     "output_type": "execute_result"
    }
   ],
   "source": [
    "data_df.head()"
   ]
  },
  {
   "cell_type": "code",
   "execution_count": 47,
   "metadata": {
    "execution": {
     "iopub.execute_input": "2025-05-23T12:50:55.633619Z",
     "iopub.status.busy": "2025-05-23T12:50:55.633287Z",
     "iopub.status.idle": "2025-05-23T12:50:55.641598Z",
     "shell.execute_reply": "2025-05-23T12:50:55.640771Z",
     "shell.execute_reply.started": "2025-05-23T12:50:55.633594Z"
    },
    "trusted": true
   },
   "outputs": [
    {
     "data": {
      "text/plain": [
       "array([['一般般，一分钱一分货吧', 1],\n",
       "       ['商品质量很好，很满意，配送速度快啊，而且配送员态度也非常好。', 4],\n",
       "       ['。。。', 5],\n",
       "       ...,\n",
       "       ['没有色差，穿上很舒服，到货快。', 5],\n",
       "       ['可以', 5],\n",
       "       ['物有所值 客服贴心东西收到以后马上查看，发现与图片描述一致，超级喜欢，卖家发货 速度很快 ，，服务也很到位，给老板点个赞，下次还会来购买.........',\n",
       "        5]], dtype=object)"
      ]
     },
     "execution_count": 47,
     "metadata": {},
     "output_type": "execute_result"
    }
   ],
   "source": [
    "data = data_df.values\n",
    "data"
   ]
  },
  {
   "cell_type": "code",
   "execution_count": 48,
   "metadata": {
    "execution": {
     "iopub.execute_input": "2025-05-23T12:50:58.747233Z",
     "iopub.status.busy": "2025-05-23T12:50:58.746639Z",
     "iopub.status.idle": "2025-05-23T12:50:58.756142Z",
     "shell.execute_reply": "2025-05-23T12:50:58.755417Z",
     "shell.execute_reply.started": "2025-05-23T12:50:58.747208Z"
    },
    "trusted": true
   },
   "outputs": [],
   "source": [
    "train ,test = train_test_split(data)"
   ]
  },
  {
   "cell_type": "code",
   "execution_count": 49,
   "metadata": {
    "execution": {
     "iopub.execute_input": "2025-05-23T12:51:00.380444Z",
     "iopub.status.busy": "2025-05-23T12:51:00.379855Z",
     "iopub.status.idle": "2025-05-23T12:51:00.385182Z",
     "shell.execute_reply": "2025-05-23T12:51:00.384219Z",
     "shell.execute_reply.started": "2025-05-23T12:51:00.380413Z"
    },
    "trusted": true
   },
   "outputs": [
    {
     "name": "stdout",
     "output_type": "stream",
     "text": [
      "(33316, 2)\n",
      "(11106, 2)\n"
     ]
    }
   ],
   "source": [
    "print(train.shape)\n",
    "print(test.shape)"
   ]
  },
  {
   "cell_type": "code",
   "execution_count": 50,
   "metadata": {
    "execution": {
     "iopub.execute_input": "2025-05-23T12:51:02.684975Z",
     "iopub.status.busy": "2025-05-23T12:51:02.684196Z",
     "iopub.status.idle": "2025-05-23T12:51:02.788454Z",
     "shell.execute_reply": "2025-05-23T12:51:02.787705Z",
     "shell.execute_reply.started": "2025-05-23T12:51:02.684946Z"
    },
    "trusted": true
   },
   "outputs": [],
   "source": [
    "# 分词器\n",
    "tokenzier = AutoTokenizer.from_pretrained('hfl/chinese-bert-wwm')"
   ]
  },
  {
   "cell_type": "code",
   "execution_count": 51,
   "metadata": {
    "execution": {
     "iopub.execute_input": "2025-05-23T12:51:11.157617Z",
     "iopub.status.busy": "2025-05-23T12:51:11.157232Z",
     "iopub.status.idle": "2025-05-23T12:51:11.164584Z",
     "shell.execute_reply": "2025-05-23T12:51:11.163521Z",
     "shell.execute_reply.started": "2025-05-23T12:51:11.157589Z"
    },
    "trusted": true
   },
   "outputs": [],
   "source": [
    "# 自定义DataLoader创建方法\n",
    "\n",
    "def warp_data(batch_data):\n",
    "    comments, lables = [],[]\n",
    "    for bdate in batch_data:\n",
    "        comments.append(bdate[0])\n",
    "        lables.append(int(bdate[1])-1)  # 标签取值[0-4]\n",
    "    \n",
    "    # 转换模型输入数据\n",
    "    input_data = tokenzier(comments, return_tensors='pt', padding=True, truncation=True, max_length=512)\n",
    "    labels_data = torch.tensor(lables)\n",
    "    \n",
    "    return input_data, labels_data\n",
    "\n",
    "train_dl = DataLoader(train, batch_size=20, shuffle=True, collate_fn = warp_data)\n",
    "test_dl = DataLoader(test, batch_size=20, shuffle=False, collate_fn = warp_data)"
   ]
  },
  {
   "cell_type": "code",
   "execution_count": 12,
   "metadata": {
    "collapsed": true,
    "execution": {
     "iopub.execute_input": "2025-05-23T12:13:28.187437Z",
     "iopub.status.busy": "2025-05-23T12:13:28.186803Z",
     "iopub.status.idle": "2025-05-23T12:13:28.229887Z",
     "shell.execute_reply": "2025-05-23T12:13:28.228972Z",
     "shell.execute_reply.started": "2025-05-23T12:13:28.187406Z"
    },
    "jupyter": {
     "outputs_hidden": true
    },
    "trusted": true
   },
   "outputs": [
    {
     "name": "stdout",
     "output_type": "stream",
     "text": [
      "({'input_ids': tensor([[  101,  6132,  3302,  3119,  1168,   749,  8024,  3043,   677,  1343,\n",
      "          7481,  3160,  2523,  5653,  3302,  8024,   817,  3419,  2141,  2669,\n",
      "          6574,  7030,  1348,  1962,  8024,  7478,  2382,  4007,  2692,   511,\n",
      "           102,     0,     0,     0,     0,     0,     0,     0,     0,     0,\n",
      "             0],\n",
      "        [  101,  6574,  7030,  2345,   510,   679,  5543,  4500,   102,     0,\n",
      "             0,     0,     0,     0,     0,     0,     0,     0,     0,     0,\n",
      "             0,     0,     0,     0,     0,     0,     0,     0,     0,     0,\n",
      "             0,     0,     0,     0,     0,     0,     0,     0,     0,     0,\n",
      "             0],\n",
      "        [  101,  4717,  6132,  3119,  1168,   749,  8024,  1157,  1962,  1394,\n",
      "          6716,  8024,  7481,  3160,   738,  5653,  3302,  8013,   102,     0,\n",
      "             0,     0,     0,     0,     0,     0,     0,     0,     0,     0,\n",
      "             0,     0,     0,     0,     0,     0,     0,     0,     0,     0,\n",
      "             0],\n",
      "        [  101,  6820,  6121,   102,     0,     0,     0,     0,     0,     0,\n",
      "             0,     0,     0,     0,     0,     0,     0,     0,     0,     0,\n",
      "             0,     0,     0,     0,     0,     0,     0,     0,     0,     0,\n",
      "             0,     0,     0,     0,     0,     0,     0,     0,     0,     0,\n",
      "             0],\n",
      "        [  101,  1920,  3698,  5401,  6225,   102,     0,     0,     0,     0,\n",
      "             0,     0,     0,     0,     0,     0,     0,     0,     0,     0,\n",
      "             0,     0,     0,     0,     0,     0,     0,     0,     0,     0,\n",
      "             0,     0,     0,     0,     0,     0,     0,     0,     0,     0,\n",
      "             0],\n",
      "        [  101,  5018,   671,  3613,  2214,  6407,  8260,  4706,  7262,  8024,\n",
      "          2523,  3300,  6637,   102,     0,     0,     0,     0,     0,     0,\n",
      "             0,     0,     0,     0,     0,     0,     0,     0,     0,     0,\n",
      "             0,     0,     0,     0,     0,     0,     0,     0,     0,     0,\n",
      "             0],\n",
      "        [  101,  2644,  3766,  3300,  1856,  1091,  1079,  2159,  8024,  7949,\n",
      "          6371,  1962,  6397,   102,     0,     0,     0,     0,     0,     0,\n",
      "             0,     0,     0,     0,     0,     0,     0,     0,     0,     0,\n",
      "             0,     0,     0,     0,     0,     0,     0,     0,     0,     0,\n",
      "             0],\n",
      "        [  101,  1157,  1157,  3119,  1168,  6573,  8024,  1957,  1036,  4692,\n",
      "          1168,  4263,   679,  7025,  2797,  8024,  4696,  4638,  3221,   679,\n",
      "          7231,  4638,  6848,  2885,   511,   102,     0,     0,     0,     0,\n",
      "             0,     0,     0,     0,     0,     0,     0,     0,     0,     0,\n",
      "             0],\n",
      "        [  101,  1159,   860,  7741,   679,  7231,  1521,  8024,  4696,  4638,\n",
      "          2523,  1962,  8024,  2769,  1599,  3614,   511,   102,     0,     0,\n",
      "             0,     0,     0,     0,     0,     0,     0,     0,     0,     0,\n",
      "             0,     0,     0,     0,     0,     0,     0,     0,     0,     0,\n",
      "             0],\n",
      "        [  101,  2644,  3766,  3300,  1856,  1091,  1079,  2159,  8024,  7949,\n",
      "          6371,  1962,  6397,   102,     0,     0,     0,     0,     0,     0,\n",
      "             0,     0,     0,     0,     0,     0,     0,     0,     0,     0,\n",
      "             0,     0,     0,     0,     0,     0,     0,     0,     0,     0,\n",
      "             0],\n",
      "        [  101,   702,  1928,   679,  7231,  8024,  6820,   833,  1086,   743,\n",
      "           102,     0,     0,     0,     0,     0,     0,     0,     0,     0,\n",
      "             0,     0,     0,     0,     0,     0,     0,     0,     0,     0,\n",
      "             0,     0,     0,     0,     0,     0,     0,     0,     0,     0,\n",
      "             0],\n",
      "        [  101,  2797,  3322,  3221,  7478,  2382,  1599,  3614,  8024,  4289,\n",
      "          3837,  4696,  4638,  2523,  5314,  1213,  8013,  5018,   671,  3613,\n",
      "          4500,   676,  3215,   772,  1501,  8024,   671,  4157,  6963,  3766,\n",
      "          3300,  6375,  2769,  1927,  3307,  8024,  7478,  2382,  1599,  3614,\n",
      "           102],\n",
      "        [  101,   743,  3341,  6843,   782,  4638,  8024,  3187,  3791,  6397,\n",
      "           817,   102,     0,     0,     0,     0,     0,     0,     0,     0,\n",
      "             0,     0,     0,     0,     0,     0,     0,     0,     0,     0,\n",
      "             0,     0,     0,     0,     0,     0,     0,     0,     0,     0,\n",
      "             0],\n",
      "        [  101,  6793,  8024,  7883,   691,  6205,   102,     0,     0,     0,\n",
      "             0,     0,     0,     0,     0,     0,     0,     0,     0,     0,\n",
      "             0,     0,     0,     0,     0,     0,     0,     0,     0,     0,\n",
      "             0,     0,     0,     0,     0,     0,     0,     0,     0,     0,\n",
      "             0],\n",
      "        [  101,  2523,  2595,  2697,  8024,   679,  6814,  6206,  3022,  6981,\n",
      "          2595,  2697,  2658,  6637,  1079,  6132,  3291,  1962,   102,     0,\n",
      "             0,     0,     0,     0,     0,     0,     0,     0,     0,     0,\n",
      "             0,     0,     0,     0,     0,     0,     0,     0,     0,     0,\n",
      "             0],\n",
      "        [  101,  2523,  1962,  8024,  6981,  1394,   143,  8372, 13284,  8024,\n",
      "          2458,  6756,  5303,   754,  1440,  1166,  2797,  3322,   749,  8024,\n",
      "          2797,  3322,  3123,  1366,  6150,  7027,  2218,  1377,   809,   749,\n",
      "           511,   102,     0,     0,     0,     0,     0,     0,     0,     0,\n",
      "             0],\n",
      "        [  101,  6132,  3302,  3119,  1168,   749,  3160,  2094,  3043,  4708,\n",
      "          2797,  2697,  2523,  1962,  4959,   677,  2523,  5653,  3302,  2523,\n",
      "          4007,  2692,  4638,   671,  3613,  6579,  4289,   102,     0,     0,\n",
      "             0,     0,     0,     0,     0,     0,     0,     0,     0,     0,\n",
      "             0],\n",
      "        [  101,  2595,   817,  3683,  7770,  8024,   852,  3221,  7439,   816,\n",
      "          1146,  5102,  6772,  2345,  8024,  2823,  7439,   816,  1922,  5450,\n",
      "          3198,   511,   102,     0,     0,     0,     0,     0,     0,     0,\n",
      "             0,     0,     0,     0,     0,     0,     0,     0,     0,     0,\n",
      "             0],\n",
      "        [  101,  2571,  6853,  3302,  1218,  3472,  3472,  1515,  8024,  4318,\n",
      "          4318,  2523,  1599,  3614,  8024,   679,  3054,  1673,   102,     0,\n",
      "             0,     0,     0,     0,     0,     0,     0,     0,     0,     0,\n",
      "             0,     0,     0,     0,     0,     0,     0,     0,     0,     0,\n",
      "             0],\n",
      "        [  101,  2644,  3766,  3300,  1856,  1091,  1079,  2159,  8024,  7949,\n",
      "          6371,  1962,  6397,   102,     0,     0,     0,     0,     0,     0,\n",
      "             0,     0,     0,     0,     0,     0,     0,     0,     0,     0,\n",
      "             0,     0,     0,     0,     0,     0,     0,     0,     0,     0,\n",
      "             0]]), 'token_type_ids': tensor([[0, 0, 0, 0, 0, 0, 0, 0, 0, 0, 0, 0, 0, 0, 0, 0, 0, 0, 0, 0, 0, 0, 0, 0,\n",
      "         0, 0, 0, 0, 0, 0, 0, 0, 0, 0, 0, 0, 0, 0, 0, 0, 0],\n",
      "        [0, 0, 0, 0, 0, 0, 0, 0, 0, 0, 0, 0, 0, 0, 0, 0, 0, 0, 0, 0, 0, 0, 0, 0,\n",
      "         0, 0, 0, 0, 0, 0, 0, 0, 0, 0, 0, 0, 0, 0, 0, 0, 0],\n",
      "        [0, 0, 0, 0, 0, 0, 0, 0, 0, 0, 0, 0, 0, 0, 0, 0, 0, 0, 0, 0, 0, 0, 0, 0,\n",
      "         0, 0, 0, 0, 0, 0, 0, 0, 0, 0, 0, 0, 0, 0, 0, 0, 0],\n",
      "        [0, 0, 0, 0, 0, 0, 0, 0, 0, 0, 0, 0, 0, 0, 0, 0, 0, 0, 0, 0, 0, 0, 0, 0,\n",
      "         0, 0, 0, 0, 0, 0, 0, 0, 0, 0, 0, 0, 0, 0, 0, 0, 0],\n",
      "        [0, 0, 0, 0, 0, 0, 0, 0, 0, 0, 0, 0, 0, 0, 0, 0, 0, 0, 0, 0, 0, 0, 0, 0,\n",
      "         0, 0, 0, 0, 0, 0, 0, 0, 0, 0, 0, 0, 0, 0, 0, 0, 0],\n",
      "        [0, 0, 0, 0, 0, 0, 0, 0, 0, 0, 0, 0, 0, 0, 0, 0, 0, 0, 0, 0, 0, 0, 0, 0,\n",
      "         0, 0, 0, 0, 0, 0, 0, 0, 0, 0, 0, 0, 0, 0, 0, 0, 0],\n",
      "        [0, 0, 0, 0, 0, 0, 0, 0, 0, 0, 0, 0, 0, 0, 0, 0, 0, 0, 0, 0, 0, 0, 0, 0,\n",
      "         0, 0, 0, 0, 0, 0, 0, 0, 0, 0, 0, 0, 0, 0, 0, 0, 0],\n",
      "        [0, 0, 0, 0, 0, 0, 0, 0, 0, 0, 0, 0, 0, 0, 0, 0, 0, 0, 0, 0, 0, 0, 0, 0,\n",
      "         0, 0, 0, 0, 0, 0, 0, 0, 0, 0, 0, 0, 0, 0, 0, 0, 0],\n",
      "        [0, 0, 0, 0, 0, 0, 0, 0, 0, 0, 0, 0, 0, 0, 0, 0, 0, 0, 0, 0, 0, 0, 0, 0,\n",
      "         0, 0, 0, 0, 0, 0, 0, 0, 0, 0, 0, 0, 0, 0, 0, 0, 0],\n",
      "        [0, 0, 0, 0, 0, 0, 0, 0, 0, 0, 0, 0, 0, 0, 0, 0, 0, 0, 0, 0, 0, 0, 0, 0,\n",
      "         0, 0, 0, 0, 0, 0, 0, 0, 0, 0, 0, 0, 0, 0, 0, 0, 0],\n",
      "        [0, 0, 0, 0, 0, 0, 0, 0, 0, 0, 0, 0, 0, 0, 0, 0, 0, 0, 0, 0, 0, 0, 0, 0,\n",
      "         0, 0, 0, 0, 0, 0, 0, 0, 0, 0, 0, 0, 0, 0, 0, 0, 0],\n",
      "        [0, 0, 0, 0, 0, 0, 0, 0, 0, 0, 0, 0, 0, 0, 0, 0, 0, 0, 0, 0, 0, 0, 0, 0,\n",
      "         0, 0, 0, 0, 0, 0, 0, 0, 0, 0, 0, 0, 0, 0, 0, 0, 0],\n",
      "        [0, 0, 0, 0, 0, 0, 0, 0, 0, 0, 0, 0, 0, 0, 0, 0, 0, 0, 0, 0, 0, 0, 0, 0,\n",
      "         0, 0, 0, 0, 0, 0, 0, 0, 0, 0, 0, 0, 0, 0, 0, 0, 0],\n",
      "        [0, 0, 0, 0, 0, 0, 0, 0, 0, 0, 0, 0, 0, 0, 0, 0, 0, 0, 0, 0, 0, 0, 0, 0,\n",
      "         0, 0, 0, 0, 0, 0, 0, 0, 0, 0, 0, 0, 0, 0, 0, 0, 0],\n",
      "        [0, 0, 0, 0, 0, 0, 0, 0, 0, 0, 0, 0, 0, 0, 0, 0, 0, 0, 0, 0, 0, 0, 0, 0,\n",
      "         0, 0, 0, 0, 0, 0, 0, 0, 0, 0, 0, 0, 0, 0, 0, 0, 0],\n",
      "        [0, 0, 0, 0, 0, 0, 0, 0, 0, 0, 0, 0, 0, 0, 0, 0, 0, 0, 0, 0, 0, 0, 0, 0,\n",
      "         0, 0, 0, 0, 0, 0, 0, 0, 0, 0, 0, 0, 0, 0, 0, 0, 0],\n",
      "        [0, 0, 0, 0, 0, 0, 0, 0, 0, 0, 0, 0, 0, 0, 0, 0, 0, 0, 0, 0, 0, 0, 0, 0,\n",
      "         0, 0, 0, 0, 0, 0, 0, 0, 0, 0, 0, 0, 0, 0, 0, 0, 0],\n",
      "        [0, 0, 0, 0, 0, 0, 0, 0, 0, 0, 0, 0, 0, 0, 0, 0, 0, 0, 0, 0, 0, 0, 0, 0,\n",
      "         0, 0, 0, 0, 0, 0, 0, 0, 0, 0, 0, 0, 0, 0, 0, 0, 0],\n",
      "        [0, 0, 0, 0, 0, 0, 0, 0, 0, 0, 0, 0, 0, 0, 0, 0, 0, 0, 0, 0, 0, 0, 0, 0,\n",
      "         0, 0, 0, 0, 0, 0, 0, 0, 0, 0, 0, 0, 0, 0, 0, 0, 0],\n",
      "        [0, 0, 0, 0, 0, 0, 0, 0, 0, 0, 0, 0, 0, 0, 0, 0, 0, 0, 0, 0, 0, 0, 0, 0,\n",
      "         0, 0, 0, 0, 0, 0, 0, 0, 0, 0, 0, 0, 0, 0, 0, 0, 0]]), 'attention_mask': tensor([[1, 1, 1, 1, 1, 1, 1, 1, 1, 1, 1, 1, 1, 1, 1, 1, 1, 1, 1, 1, 1, 1, 1, 1,\n",
      "         1, 1, 1, 1, 1, 1, 1, 0, 0, 0, 0, 0, 0, 0, 0, 0, 0],\n",
      "        [1, 1, 1, 1, 1, 1, 1, 1, 1, 0, 0, 0, 0, 0, 0, 0, 0, 0, 0, 0, 0, 0, 0, 0,\n",
      "         0, 0, 0, 0, 0, 0, 0, 0, 0, 0, 0, 0, 0, 0, 0, 0, 0],\n",
      "        [1, 1, 1, 1, 1, 1, 1, 1, 1, 1, 1, 1, 1, 1, 1, 1, 1, 1, 1, 0, 0, 0, 0, 0,\n",
      "         0, 0, 0, 0, 0, 0, 0, 0, 0, 0, 0, 0, 0, 0, 0, 0, 0],\n",
      "        [1, 1, 1, 1, 0, 0, 0, 0, 0, 0, 0, 0, 0, 0, 0, 0, 0, 0, 0, 0, 0, 0, 0, 0,\n",
      "         0, 0, 0, 0, 0, 0, 0, 0, 0, 0, 0, 0, 0, 0, 0, 0, 0],\n",
      "        [1, 1, 1, 1, 1, 1, 0, 0, 0, 0, 0, 0, 0, 0, 0, 0, 0, 0, 0, 0, 0, 0, 0, 0,\n",
      "         0, 0, 0, 0, 0, 0, 0, 0, 0, 0, 0, 0, 0, 0, 0, 0, 0],\n",
      "        [1, 1, 1, 1, 1, 1, 1, 1, 1, 1, 1, 1, 1, 1, 0, 0, 0, 0, 0, 0, 0, 0, 0, 0,\n",
      "         0, 0, 0, 0, 0, 0, 0, 0, 0, 0, 0, 0, 0, 0, 0, 0, 0],\n",
      "        [1, 1, 1, 1, 1, 1, 1, 1, 1, 1, 1, 1, 1, 1, 0, 0, 0, 0, 0, 0, 0, 0, 0, 0,\n",
      "         0, 0, 0, 0, 0, 0, 0, 0, 0, 0, 0, 0, 0, 0, 0, 0, 0],\n",
      "        [1, 1, 1, 1, 1, 1, 1, 1, 1, 1, 1, 1, 1, 1, 1, 1, 1, 1, 1, 1, 1, 1, 1, 1,\n",
      "         1, 1, 0, 0, 0, 0, 0, 0, 0, 0, 0, 0, 0, 0, 0, 0, 0],\n",
      "        [1, 1, 1, 1, 1, 1, 1, 1, 1, 1, 1, 1, 1, 1, 1, 1, 1, 1, 0, 0, 0, 0, 0, 0,\n",
      "         0, 0, 0, 0, 0, 0, 0, 0, 0, 0, 0, 0, 0, 0, 0, 0, 0],\n",
      "        [1, 1, 1, 1, 1, 1, 1, 1, 1, 1, 1, 1, 1, 1, 0, 0, 0, 0, 0, 0, 0, 0, 0, 0,\n",
      "         0, 0, 0, 0, 0, 0, 0, 0, 0, 0, 0, 0, 0, 0, 0, 0, 0],\n",
      "        [1, 1, 1, 1, 1, 1, 1, 1, 1, 1, 1, 0, 0, 0, 0, 0, 0, 0, 0, 0, 0, 0, 0, 0,\n",
      "         0, 0, 0, 0, 0, 0, 0, 0, 0, 0, 0, 0, 0, 0, 0, 0, 0],\n",
      "        [1, 1, 1, 1, 1, 1, 1, 1, 1, 1, 1, 1, 1, 1, 1, 1, 1, 1, 1, 1, 1, 1, 1, 1,\n",
      "         1, 1, 1, 1, 1, 1, 1, 1, 1, 1, 1, 1, 1, 1, 1, 1, 1],\n",
      "        [1, 1, 1, 1, 1, 1, 1, 1, 1, 1, 1, 1, 0, 0, 0, 0, 0, 0, 0, 0, 0, 0, 0, 0,\n",
      "         0, 0, 0, 0, 0, 0, 0, 0, 0, 0, 0, 0, 0, 0, 0, 0, 0],\n",
      "        [1, 1, 1, 1, 1, 1, 1, 0, 0, 0, 0, 0, 0, 0, 0, 0, 0, 0, 0, 0, 0, 0, 0, 0,\n",
      "         0, 0, 0, 0, 0, 0, 0, 0, 0, 0, 0, 0, 0, 0, 0, 0, 0],\n",
      "        [1, 1, 1, 1, 1, 1, 1, 1, 1, 1, 1, 1, 1, 1, 1, 1, 1, 1, 1, 0, 0, 0, 0, 0,\n",
      "         0, 0, 0, 0, 0, 0, 0, 0, 0, 0, 0, 0, 0, 0, 0, 0, 0],\n",
      "        [1, 1, 1, 1, 1, 1, 1, 1, 1, 1, 1, 1, 1, 1, 1, 1, 1, 1, 1, 1, 1, 1, 1, 1,\n",
      "         1, 1, 1, 1, 1, 1, 1, 1, 0, 0, 0, 0, 0, 0, 0, 0, 0],\n",
      "        [1, 1, 1, 1, 1, 1, 1, 1, 1, 1, 1, 1, 1, 1, 1, 1, 1, 1, 1, 1, 1, 1, 1, 1,\n",
      "         1, 1, 1, 1, 0, 0, 0, 0, 0, 0, 0, 0, 0, 0, 0, 0, 0],\n",
      "        [1, 1, 1, 1, 1, 1, 1, 1, 1, 1, 1, 1, 1, 1, 1, 1, 1, 1, 1, 1, 1, 1, 1, 0,\n",
      "         0, 0, 0, 0, 0, 0, 0, 0, 0, 0, 0, 0, 0, 0, 0, 0, 0],\n",
      "        [1, 1, 1, 1, 1, 1, 1, 1, 1, 1, 1, 1, 1, 1, 1, 1, 1, 1, 1, 0, 0, 0, 0, 0,\n",
      "         0, 0, 0, 0, 0, 0, 0, 0, 0, 0, 0, 0, 0, 0, 0, 0, 0],\n",
      "        [1, 1, 1, 1, 1, 1, 1, 1, 1, 1, 1, 1, 1, 1, 0, 0, 0, 0, 0, 0, 0, 0, 0, 0,\n",
      "         0, 0, 0, 0, 0, 0, 0, 0, 0, 0, 0, 0, 0, 0, 0, 0, 0]])}, tensor([4, 0, 4, 4, 4, 4, 3, 4, 4, 4, 4, 4, 4, 0, 4, 4, 4, 3, 4, 4]))\n"
     ]
    }
   ],
   "source": [
    "# for item in test_dl:\n",
    "#     print(item)\n",
    "#     break\n"
   ]
  },
  {
   "cell_type": "code",
   "execution_count": 52,
   "metadata": {
    "execution": {
     "iopub.execute_input": "2025-05-23T12:51:15.914099Z",
     "iopub.status.busy": "2025-05-23T12:51:15.913328Z",
     "iopub.status.idle": "2025-05-23T12:51:17.099985Z",
     "shell.execute_reply": "2025-05-23T12:51:17.099106Z",
     "shell.execute_reply.started": "2025-05-23T12:51:15.914072Z"
    },
    "trusted": true
   },
   "outputs": [
    {
     "name": "stderr",
     "output_type": "stream",
     "text": [
      "Some weights of BertForSequenceClassification were not initialized from the model checkpoint at hfl/chinese-bert-wwm and are newly initialized: ['classifier.bias', 'classifier.weight']\n",
      "You should probably TRAIN this model on a down-stream task to be able to use it for predictions and inference.\n",
      "Some weights of BertForSequenceClassification were not initialized from the model checkpoint at hfl/chinese-bert-wwm and are newly initialized: ['classifier.bias', 'classifier.weight']\n",
      "You should probably TRAIN this model on a down-stream task to be able to use it for predictions and inference.\n"
     ]
    }
   ],
   "source": [
    "# model_1 模型微调 Supervised Fine Tuning\n",
    "# model_2 迁移学习 Transfer Learning 冻结bert\n",
    "model_1 = AutoModelForSequenceClassification.from_pretrained('hfl/chinese-bert-wwm', num_labels=5)\n",
    "model_2 = AutoModelForSequenceClassification.from_pretrained('hfl/chinese-bert-wwm', num_labels=5)"
   ]
  },
  {
   "cell_type": "code",
   "execution_count": 53,
   "metadata": {
    "execution": {
     "iopub.execute_input": "2025-05-23T12:51:17.362025Z",
     "iopub.status.busy": "2025-05-23T12:51:17.361369Z",
     "iopub.status.idle": "2025-05-23T12:51:17.572848Z",
     "shell.execute_reply": "2025-05-23T12:51:17.571895Z",
     "shell.execute_reply.started": "2025-05-23T12:51:17.361998Z"
    },
    "trusted": true
   },
   "outputs": [],
   "source": [
    "model_1 = model_1.to(device)\n",
    "model_2 = model_2.to(device)\n",
    "model_2.bert.trainable = False"
   ]
  },
  {
   "cell_type": "code",
   "execution_count": 54,
   "metadata": {
    "execution": {
     "iopub.execute_input": "2025-05-23T12:51:19.301901Z",
     "iopub.status.busy": "2025-05-23T12:51:19.301572Z",
     "iopub.status.idle": "2025-05-23T12:51:19.309969Z",
     "shell.execute_reply": "2025-05-23T12:51:19.309065Z",
     "shell.execute_reply.started": "2025-05-23T12:51:19.301878Z"
    },
    "trusted": true
   },
   "outputs": [],
   "source": [
    "# loss、optim\n",
    "loss_fn1 = nn.CrossEntropyLoss()\n",
    "optim1 = Adam(model_1.parameters(), lr=1e-4)\n",
    "\n",
    "loss_fn2 = nn.CrossEntropyLoss()\n",
    "optim2 = Adam(model_2.parameters(), lr=1e-3)\n"
   ]
  },
  {
   "cell_type": "code",
   "execution_count": 57,
   "metadata": {
    "execution": {
     "iopub.execute_input": "2025-05-23T13:00:27.441853Z",
     "iopub.status.busy": "2025-05-23T13:00:27.441525Z",
     "iopub.status.idle": "2025-05-23T13:19:49.519147Z",
     "shell.execute_reply": "2025-05-23T13:19:49.518464Z",
     "shell.execute_reply.started": "2025-05-23T13:00:27.441831Z"
    },
    "trusted": true
   },
   "outputs": [
    {
     "name": "stderr",
     "output_type": "stream",
     "text": [
      "epoch:0 train_loss:0.1528: 100%|██████████| 1666/1666 [06:26<00:00,  4.31it/s]\n",
      "epoch:1 train_loss:0.6936: 100%|██████████| 1666/1666 [06:26<00:00,  4.31it/s]\n",
      "epoch:2 train_loss:0.2600: 100%|██████████| 1666/1666 [06:27<00:00,  4.29it/s]\n"
     ]
    }
   ],
   "source": [
    "model1_train_loss_cnt = 0\n",
    "\n",
    "for epoch in range(3):\n",
    "    pbar = tqdm(train_dl)\n",
    "    for input_data, labels_data in pbar:\n",
    "        datas = { k:v.to(device) for k,v in input_data.items() }\n",
    "        labels = labels_data.to(device)\n",
    "        \n",
    "        result = model_1(**datas)\n",
    "        loss = loss_fn1(result.logits, labels)\n",
    "        \n",
    "        pbar.set_description(f'epoch:{epoch} train_loss:{loss.item():.4f}')\n",
    "\n",
    "        writer.add_scalar(\"Fine Tuning Train Loss\", loss, model1_train_loss_cnt)\n",
    "        model1_train_loss_cnt += 1\n",
    "        \n",
    "        loss.backward()\n",
    "        optim1.step()\n",
    "        \n",
    "        model_1.zero_grad()\n",
    "\n",
    "\n",
    "torch.save(model_1.state_dict(),'model_1.pt')\n",
    "        "
   ]
  },
  {
   "cell_type": "code",
   "execution_count": 58,
   "metadata": {
    "execution": {
     "iopub.execute_input": "2025-05-23T13:19:54.375854Z",
     "iopub.status.busy": "2025-05-23T13:19:54.375557Z",
     "iopub.status.idle": "2025-05-23T13:39:13.129154Z",
     "shell.execute_reply": "2025-05-23T13:39:13.128228Z",
     "shell.execute_reply.started": "2025-05-23T13:19:54.375834Z"
    },
    "trusted": true
   },
   "outputs": [
    {
     "name": "stderr",
     "output_type": "stream",
     "text": [
      "epoch:0 train_loss:0.5336: 100%|██████████| 1666/1666 [06:28<00:00,  4.29it/s]\n",
      "epoch:1 train_loss:0.0677: 100%|██████████| 1666/1666 [06:22<00:00,  4.36it/s]\n",
      "epoch:2 train_loss:0.1532: 100%|██████████| 1666/1666 [06:27<00:00,  4.30it/s]\n"
     ]
    }
   ],
   "source": [
    "model2_train_loss_cnt = 0\n",
    "\n",
    "for epoch in range(3):\n",
    "    pbar = tqdm(train_dl)\n",
    "    for input_data, labels_data in pbar:\n",
    "        datas = { k:v.to(device) for k,v in input_data.items() }\n",
    "        labels = labels_data.to(device)\n",
    "        \n",
    "        result = model_2(**datas)\n",
    "        loss = loss_fn2(result.logits, labels)\n",
    "        \n",
    "        pbar.set_description(f'epoch:{epoch} train_loss:{loss.item():.4f}')\n",
    "\n",
    "        writer.add_scalar(\"Transfer Learning Train Loss\", loss, model2_train_loss_cnt)\n",
    "        model2_train_loss_cnt += 1\n",
    "        \n",
    "        loss.backward()\n",
    "        optim2.step()\n",
    "        \n",
    "        model_2.zero_grad()\n",
    "\n",
    "\n",
    "torch.save(model_2.state_dict(),'model_2.pt')"
   ]
  },
  {
   "cell_type": "code",
   "execution_count": 59,
   "metadata": {
    "execution": {
     "iopub.execute_input": "2025-05-23T13:39:45.491877Z",
     "iopub.status.busy": "2025-05-23T13:39:45.491543Z",
     "iopub.status.idle": "2025-05-23T13:41:07.203506Z",
     "shell.execute_reply": "2025-05-23T13:41:07.202605Z",
     "shell.execute_reply.started": "2025-05-23T13:39:45.491852Z"
    },
    "trusted": true
   },
   "outputs": [
    {
     "name": "stderr",
     "output_type": "stream",
     "text": [
      "100%|██████████| 556/556 [01:21<00:00,  6.81it/s]\n"
     ]
    }
   ],
   "source": [
    "model_1.eval()\n",
    "model_2.eval()\n",
    "pbar = tqdm(test_dl)\n",
    "\n",
    "\n",
    "correct1, correct2 = 0,0\n",
    "\n",
    "for input_data, labels_data in pbar:\n",
    "    datas = { k:v.to(device) for k,v in input_data.items() }\n",
    "    labels = labels_data.to(device)\n",
    "\n",
    "    with torch.no_grad():\n",
    "        result1 = model_1(**datas)\n",
    "        result2 = model_2(**datas)\n",
    "\n",
    "    predict1 = torch.argmax(result1.logits, dim=-1)\n",
    "    predict2 = torch.argmax(result2.logits, dim=-1)\n",
    "\n",
    "    correct1 += (predict1 == labels).sum()\n",
    "    correct2 += (predict1 == labels).sum()"
   ]
  },
  {
   "cell_type": "code",
   "execution_count": null,
   "metadata": {
    "trusted": true
   },
   "outputs": [],
   "source": [
    "\n",
    "model_1.load_state_dict()"
   ]
  }
 ],
 "metadata": {
  "kaggle": {
   "accelerator": "gpu",
   "dataSources": [
    {
     "datasetId": 134082,
     "sourceId": 318737,
     "sourceType": "datasetVersion"
    }
   ],
   "dockerImageVersionId": 30733,
   "isGpuEnabled": true,
   "isInternetEnabled": true,
   "language": "python",
   "sourceType": "notebook"
  },
  "kernelspec": {
   "display_name": "base",
   "language": "python",
   "name": "python3"
  },
  "language_info": {
   "codemirror_mode": {
    "name": "ipython",
    "version": 3
   },
   "file_extension": ".py",
   "mimetype": "text/x-python",
   "name": "python",
   "nbconvert_exporter": "python",
   "pygments_lexer": "ipython3",
   "version": "3.11.10"
  }
 },
 "nbformat": 4,
 "nbformat_minor": 4
}
