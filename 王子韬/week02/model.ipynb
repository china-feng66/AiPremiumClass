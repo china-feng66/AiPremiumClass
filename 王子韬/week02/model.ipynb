{
 "cells": [
  {
   "cell_type": "code",
   "execution_count": 5,
   "metadata": {},
   "outputs": [
    {
     "name": "stdout",
     "output_type": "stream",
     "text": [
      "['sepal length (cm)', 'sepal width (cm)', 'petal length (cm)', 'petal width (cm)']\n",
      "['setosa' 'versicolor' 'virginica']\n",
      "特征数量: 4\n",
      "[5.1 3.5 1.4 0.2], 0\n",
      "样本数量: 100\n",
      "类别分布: [50 50]\n"
     ]
    }
   ],
   "source": [
    "\n",
    "from sklearn.datasets import load_iris\n",
    "from sklearn.model_selection import train_test_split\n",
    "import numpy as np\n",
    "\n",
    "X, y = load_iris(return_X_y=True)\n",
    "\n",
    "X = X[:100]\n",
    "y = y[:100]\n",
    "\n",
    "# 特征名称\n",
    "feature_name = load_iris().feature_names\n",
    "# 目标名称 3种结果\n",
    "target_name = load_iris().target_names\n",
    "print(feature_name)\n",
    "print(target_name)\n",
    "print(f\"特征数量: {X.shape[1]}\")\n",
    "print(f\"{X[0]}, {y[0]}\")\n",
    "print(f\"样本数量: {X.shape[0]}\")\n",
    "print(f\"类别分布: {np.bincount(y)}\")"
   ]
  },
  {
   "cell_type": "code",
   "execution_count": 6,
   "metadata": {},
   "outputs": [
    {
     "name": "stdout",
     "output_type": "stream",
     "text": [
      "[[-1.218822   -1.03409814  1.04627092  0.11044147]]\n"
     ]
    }
   ],
   "source": [
    "# 权重参数\n",
    "theta = np.random.randn(1,4)  # shape (1, 4)\n",
    "print(theta)\n",
    "bias = 0\n",
    "# 超参数\n",
    "lr = 0.1\n",
    "epochs = 500  # 训练次数"
   ]
  }
 ],
 "metadata": {
  "kernelspec": {
   "display_name": "AI",
   "language": "python",
   "name": "python3"
  },
  "language_info": {
   "codemirror_mode": {
    "name": "ipython",
    "version": 3
   },
   "file_extension": ".py",
   "mimetype": "text/x-python",
   "name": "python",
   "nbconvert_exporter": "python",
   "pygments_lexer": "ipython3",
   "version": "3.12.9"
  }
 },
 "nbformat": 4,
 "nbformat_minor": 2
}
